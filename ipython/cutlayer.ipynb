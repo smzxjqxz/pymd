{
 "cells": [
  {
   "cell_type": "markdown",
   "metadata": {},
   "source": [
    "# 2017.10.29\n",
    "to repeat the former transition npt eqilibrium of XI-water-vapor surface,\n",
    "we are going to cut a piece from the intial bulk-l XI ice lattice.\n",
    "It is no need to be large but should have enough layers in c axis to monitor the change along the surface,\n",
    "since it is a phase transition, the sum of all change among all the layers stands for surface free energy."
   ]
  },
  {
   "cell_type": "code",
   "execution_count": 74,
   "metadata": {
    "collapsed": true
   },
   "outputs": [],
   "source": [
    "import MDAnalysis\n",
    "import numpy as np\n",
    "\n",
    "u=MDAnalysis.Universe(\"bulkih-l.gro\")\n",
    "sel=u.select_atoms(\"byres prop y < 30.5 and prop x < 30\")\n",
    "sel.residues.resnames.shape\n",
    "sel.residues.resnames=['SOL']*sel.residues.resnames.shape[0]\n",
    "dim=u.dimensions+0\n",
    "dim[:3]=np.max(sel.positions,0)+1\n",
    "u.dimensions=dim\n",
    "sel.write(\"cut.gro\")"
   ]
  },
  {
   "cell_type": "code",
   "execution_count": 18,
   "metadata": {
    "collapsed": true
   },
   "outputs": [],
   "source": [
    "import MDAnalysis\n",
    "import numpy as np\n",
    "from matplotlib import pylab as plt"
   ]
  },
  {
   "cell_type": "code",
   "execution_count": 111,
   "metadata": {},
   "outputs": [],
   "source": [
    "u=MDAnalysis.Universe(\"step4-aver.gro\")"
   ]
  },
  {
   "cell_type": "code",
   "execution_count": 112,
   "metadata": {},
   "outputs": [],
   "source": [
    "zinterval=7.41"
   ]
  },
  {
   "cell_type": "code",
   "execution_count": 113,
   "metadata": {
    "collapsed": true
   },
   "outputs": [],
   "source": [
    "zstart=8.09"
   ]
  },
  {
   "cell_type": "code",
   "execution_count": 114,
   "metadata": {},
   "outputs": [
    {
     "data": {
      "text/plain": [
       "<AtomGroup with 896 atoms>"
      ]
     },
     "execution_count": 114,
     "metadata": {},
     "output_type": "execute_result"
    }
   ],
   "source": [
    "u.select_atoms(\"byres prop z > 8.0 and prop z < 15\")"
   ]
  },
  {
   "cell_type": "code",
   "execution_count": 115,
   "metadata": {},
   "outputs": [
    {
     "data": {
      "text/plain": [
       "896"
      ]
     },
     "execution_count": 115,
     "metadata": {},
     "output_type": "execute_result"
    }
   ],
   "source": [
    "16128/18"
   ]
  },
  {
   "cell_type": "code",
   "execution_count": 116,
   "metadata": {},
   "outputs": [
    {
     "data": {
      "text/plain": [
       "array([  30.75030136,   32.30249786,  133.82180786,   90.        ,\n",
       "         90.        ,   90.        ], dtype=float32)"
      ]
     },
     "execution_count": 116,
     "metadata": {},
     "output_type": "execute_result"
    }
   ],
   "source": [
    "u.dimensions"
   ]
  },
  {
   "cell_type": "code",
   "execution_count": 117,
   "metadata": {
    "collapsed": true
   },
   "outputs": [],
   "source": [
    "data=[]\n",
    "for n in np.linspace(0,u.dimensions[2],1000):\n",
    "    selword=\"byres prop z < %6.2f\" % n\n",
    "    sel=u.select_atoms(selword)\n",
    "    data.append(sel.n_atoms)"
   ]
  },
  {
   "cell_type": "code",
   "execution_count": 118,
   "metadata": {
    "scrolled": true
   },
   "outputs": [
    {
     "data": {
      "image/png": "[encoded data removed]",
      "text/plain": [
       "<matplotlib.figure.Figure at 0x7f0967b08f50>"
      ]
     },
     "metadata": {},
     "output_type": "display_data"
    }
   ],
   "source": [
    "plt.plot(np.linspace(0,u.dimensions[2],1000),data,'g--',label='Number of ICE in z axis')\n",
    "plt.show()"
   ]
  },
  {
   "cell_type": "code",
   "execution_count": 119,
   "metadata": {},
   "outputs": [],
   "source": [
    "data2=np.array(data[1:])-np.array(data[:-1])"
   ]
  },
  {
   "cell_type": "code",
   "execution_count": 120,
   "metadata": {
    "collapsed": true
   },
   "outputs": [],
   "source": [
    "zstart=7.5"
   ]
  },
  {
   "cell_type": "code",
   "execution_count": 121,
   "metadata": {},
   "outputs": [
    {
     "data": {
      "text/plain": [
       "array([   7.5 ,   14.91,   22.32,   29.73,   37.14,   44.55,   51.96,\n",
       "         59.37,   66.78,   74.19,   81.6 ,   89.01,   96.42,  103.83,\n",
       "        111.24,  118.65,  126.06,  133.47])"
      ]
     },
     "execution_count": 121,
     "metadata": {},
     "output_type": "execute_result"
    }
   ],
   "source": [
    "np.arange(zstart,u.dimensions[2],zinterval)"
   ]
  },
  {
   "cell_type": "code",
   "execution_count": 122,
   "metadata": {},
   "outputs": [],
   "source": [
    "plt.clf()\n",
    "plt.plot(np.linspace(0,u.dimensions[2],1000)[1:],data2,'b--',label='Number of ICE in z axis')\n",
    "for n in np.arange(zstart,u.dimensions[2],zinterval):\n",
    "    plt.plot([n,n],[-20,250],'r--')\n",
    "plt.savefig('n_ice_z.png',dpi=300)"
   ]
  },
  {
   "cell_type": "code",
   "execution_count": 124,
   "metadata": {
    "collapsed": true
   },
   "outputs": [],
   "source": [
    "inters=np.arange(zstart,u.dimensions[2],zinterval)"
   ]
  },
  {
   "cell_type": "code",
   "execution_count": 170,
   "metadata": {},
   "outputs": [
    {
     "name": "stdout",
     "output_type": "stream",
     "text": [
      "byres prop z <   7.50\n",
      "byres prop z >  14.91 and prop z <  22.32\n",
      "byres prop z >  22.32 and prop z <  29.73\n",
      "byres prop z >  29.73 and prop z <  37.14\n",
      "byres prop z >  37.14 and prop z <  44.55\n",
      "byres prop z >  44.55 and prop z <  51.96\n",
      "byres prop z >  51.96 and prop z <  59.37\n",
      "byres prop z >  59.37 and prop z <  66.78\n",
      "byres prop z >  66.78 and prop z <  74.19\n",
      "byres prop z >  74.19 and prop z <  81.60\n",
      "byres prop z >  81.60 and prop z <  89.01\n",
      "byres prop z >  89.01 and prop z <  96.42\n",
      "byres prop z >  96.42 and prop z < 103.83\n",
      "byres prop z > 103.83 and prop z < 111.24\n",
      "byres prop z > 111.24 and prop z < 118.65\n",
      "byres prop z > 118.65 and prop z < 126.06\n",
      "byres prop z > 126.06 and prop z < 133.47\n"
     ]
    },
    {
     "data": {
      "image/png": "[encoded data removed]",
      "text/plain": [
       "<matplotlib.figure.Figure at 0x7f0967634990>"
      ]
     },
     "metadata": {},
     "output_type": "display_data"
    }
   ],
   "source": [
    "plt.clf()\n",
    "data=[]\n",
    "sels=[]\n",
    "for n in range(len(inters))[:-1]:\n",
    "    #print n\n",
    "    if n==0:\n",
    "        selword=\"byres prop z < %6.2f\" % inters[n]\n",
    "        sel=u.select_atoms(selword)\n",
    "        sels.append(sel)\n",
    "        print selword\n",
    "        data.append(sel.n_atoms)\n",
    "    else:\n",
    "        selword=\"byres prop z > %6.2f and prop z < %6.2f\" % (inters[n],inters[n+1])\n",
    "        print selword\n",
    "        sel=u.select_atoms(selword)\n",
    "        sels.append(sel)\n",
    "        data.append(sel.n_atoms)\n",
    "plt.plot(data,'g--')\n",
    "plt.show()"
   ]
  },
  {
   "cell_type": "code",
   "execution_count": 77,
   "metadata": {
    "collapsed": true
   },
   "outputs": [],
   "source": [
    "sel.write(\"mix-0.gro\")"
   ]
  },
  {
   "cell_type": "code",
   "execution_count": 136,
   "metadata": {},
   "outputs": [
    {
     "data": {
      "text/plain": [
       "132.29999"
      ]
     },
     "execution_count": 136,
     "metadata": {},
     "output_type": "execute_result"
    }
   ],
   "source": [
    "np.max(u.atoms.positions)"
   ]
  },
  {
   "cell_type": "code",
   "execution_count": 126,
   "metadata": {},
   "outputs": [],
   "source": [
    "u2=MDAnalysis.Universe(\"ice-long.gro\")"
   ]
  },
  {
   "cell_type": "code",
   "execution_count": 165,
   "metadata": {},
   "outputs": [],
   "source": [
    "sol=u2.select_atoms('byres prop z < 160 and prop z > 134')"
   ]
  },
  {
   "cell_type": "code",
   "execution_count": 138,
   "metadata": {},
   "outputs": [
    {
     "data": {
      "text/plain": [
       "array([   0.46000001,    0.62      ,  135.12998962], dtype=float32)"
      ]
     },
     "execution_count": 138,
     "metadata": {},
     "output_type": "execute_result"
    }
   ],
   "source": [
    "np.min(sol.positions,0)"
   ]
  },
  {
   "cell_type": "code",
   "execution_count": 139,
   "metadata": {
    "collapsed": true
   },
   "outputs": [],
   "source": [
    "sels.append(sol)"
   ]
  },
  {
   "cell_type": "code",
   "execution_count": 163,
   "metadata": {},
   "outputs": [
    {
     "data": {
      "text/plain": [
       "[4, 5, 6, 7, 8, 9, 10, 11, 12]"
      ]
     },
     "execution_count": 163,
     "metadata": {},
     "output_type": "execute_result"
    }
   ],
   "source": []
  },
  {
   "cell_type": "code",
   "execution_count": 175,
   "metadata": {},
   "outputs": [
    {
     "name": "stdout",
     "output_type": "stream",
     "text": [
      "No. 4, writing icf at  [2, 3] , ico at  [4, 5, 6, 7, 8, 9, 10, 11, 12, 13]\n",
      "FRZ NUM: 896,ICF NUM: 1792,ICE NUM: 8960, SOL NUM: 5748\n",
      "No. 5, writing icf at  [2, 3, 4] , ico at  [5, 6, 7, 8, 9, 10, 11, 12, 13]\n",
      "FRZ NUM: 896,ICF NUM: 2688,ICE NUM: 8064, SOL NUM: 5748\n",
      "No. 6, writing icf at  [2, 3, 4, 5] , ico at  [6, 7, 8, 9, 10, 11, 12, 13]\n",
      "FRZ NUM: 896,ICF NUM: 3584,ICE NUM: 7168, SOL NUM: 5748\n",
      "No. 7, writing icf at  [2, 3, 4, 5, 6] , ico at  [7, 8, 9, 10, 11, 12, 13]\n",
      "FRZ NUM: 896,ICF NUM: 4480,ICE NUM: 6272, SOL NUM: 5748\n",
      "No. 8, writing icf at  [2, 3, 4, 5, 6, 7] , ico at  [8, 9, 10, 11, 12, 13]\n",
      "FRZ NUM: 896,ICF NUM: 5376,ICE NUM: 5376, SOL NUM: 5748\n",
      "No. 9, writing icf at  [2, 3, 4, 5, 6, 7, 8] , ico at  [9, 10, 11, 12, 13]\n",
      "FRZ NUM: 896,ICF NUM: 6272,ICE NUM: 4480, SOL NUM: 5748\n",
      "No. 10, writing icf at  [2, 3, 4, 5, 6, 7, 8, 9] , ico at  [10, 11, 12, 13]\n",
      "FRZ NUM: 896,ICF NUM: 7168,ICE NUM: 3584, SOL NUM: 5748\n",
      "No. 11, writing icf at  [2, 3, 4, 5, 6, 7, 8, 9, 10] , ico at  [11, 12, 13]\n",
      "FRZ NUM: 896,ICF NUM: 8064,ICE NUM: 2688, SOL NUM: 5748\n",
      "No. 12, writing icf at  [2, 3, 4, 5, 6, 7, 8, 9, 10, 11] , ico at  [12, 13]\n",
      "FRZ NUM: 896,ICF NUM: 8960,ICE NUM: 1792, SOL NUM: 5748\n"
     ]
    }
   ],
   "source": [
    "for n in range(4,13):\n",
    "    #print n\n",
    "    totf=[0,1]\n",
    "    icf=range(2,n)\n",
    "    ico=range(n,14)\n",
    "    for n_sel,sel in enumerate(sels):\n",
    "        if n_sel in totf:\n",
    "            sel.residues.resnames=[\"FRZ\"]*sel.residues.resids.shape[0]\n",
    "        elif n_sel in icf:\n",
    "            sel.residues.resnames=[\"ICF\"]*sel.residues.resids.shape[0]\n",
    "        elif n_sel in ico:\n",
    "            sel.residues.resnames=[\"ICO\"]*sel.residues.resids.shape[0]\n",
    "        else:\n",
    "            sel.residues.resnames=[\"SOL\"]*sel.residues.resids.shape[0]\n",
    "            \n",
    "    sel=np.sum(sels[1:])\n",
    "    u3=MDAnalysis.Merge(sel,sol)\n",
    "    dim=u.dimensions\n",
    "    dim[2]=200\n",
    "    u3.dimensions=dim\n",
    "    u3.atoms.write(\"mix-%d.gro\" % n)\n",
    "    print \"No. %d, writing icf at \" % n,\n",
    "    print icf,\n",
    "    print \", ico at \",\n",
    "    print ico\n",
    "    print \"FRZ NUM: %d,ICF NUM: %d,ICE NUM: %d, SOL NUM: %d\" % \\\n",
    "        (u3.select_atoms(\"resname FRZ\").n_atoms,u3.select_atoms(\"resname ICF\").n_atoms,\\\n",
    "        u3.select_atoms(\"resname ICO\").n_atoms,u3.select_atoms(\"resname SOL\").n_atoms)"
   ]
  }
 ],
 "metadata": {
  "kernelspec": {
   "display_name": "Python 2",
   "language": "python",
   "name": "python2"
  },
  "language_info": {
   "codemirror_mode": {
    "name": "ipython",
    "version": 2
   },
   "file_extension": ".py",
   "mimetype": "text/x-python",
   "name": "python",
   "nbconvert_exporter": "python",
   "pygments_lexer": "ipython2",
   "version": "2.7.12"
  }
 },
 "nbformat": 4,
 "nbformat_minor": 2
}
